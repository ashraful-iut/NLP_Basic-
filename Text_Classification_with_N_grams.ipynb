{
  "nbformat": 4,
  "nbformat_minor": 0,
  "metadata": {
    "colab": {
      "provenance": [],
      "authorship_tag": "ABX9TyPDKuIGsO9TYVmUn+hkZ+Q1",
      "include_colab_link": true
    },
    "kernelspec": {
      "name": "python3",
      "display_name": "Python 3"
    },
    "language_info": {
      "name": "python"
    }
  },
  "cells": [
    {
      "cell_type": "markdown",
      "metadata": {
        "id": "view-in-github",
        "colab_type": "text"
      },
      "source": [
        "<a href=\"https://colab.research.google.com/github/ashraful-iut/NLP_Basic-/blob/main/Text_Classification_with_N_grams.ipynb\" target=\"_parent\"><img src=\"https://colab.research.google.com/assets/colab-badge.svg\" alt=\"Open In Colab\"/></a>"
      ]
    },
    {
      "cell_type": "markdown",
      "source": [
        "##Text Classification with N-grams"
      ],
      "metadata": {
        "id": "D_xdaA8IrwjF"
      }
    },
    {
      "cell_type": "code",
      "execution_count": null,
      "metadata": {
        "id": "WRgKHADzrro3"
      },
      "outputs": [],
      "source": [
        "import pandas as pd\n",
        "from sklearn.feature_extraction.text import CountVectorizer\n",
        "from sklearn.linear_model import LogisticRegression"
      ]
    },
    {
      "cell_type": "code",
      "source": [
        "texts = [\n",
        "    \"basketball is a team sport where teams shoot a basketball\",\n",
        "    \"football is a sport where teams score goals\"\n",
        "]\n",
        "labels = [1, 0] # 1 means basketball, 0 means football\n",
        "\n",
        "# fit vectorizer on texts\n",
        "vectorizer = CountVectorizer(ngram_range=(1, 1))\n",
        "vectorizer.fit(texts) # build ngram dictionary\n",
        "\n",
        "# vectorize texts into bag of words\n",
        "ngrams = vectorizer.transform(texts)\n",
        "ngrams.todense()"
      ],
      "metadata": {
        "colab": {
          "base_uri": "https://localhost:8080/"
        },
        "id": "9K5DZjpatofd",
        "outputId": "9ca03093-e60e-4d5c-ea3f-f011312cdcf7"
      },
      "execution_count": null,
      "outputs": [
        {
          "output_type": "execute_result",
          "data": {
            "text/plain": [
              "matrix([[2, 0, 0, 1, 0, 1, 1, 1, 1, 1],\n",
              "        [0, 1, 1, 1, 1, 0, 1, 0, 1, 1]])"
            ]
          },
          "metadata": {},
          "execution_count": 20
        }
      ]
    },
    {
      "cell_type": "code",
      "source": [
        "texts = [\n",
        "    \"basketball is a team sport where teams shoot a basketball\",\n",
        "    \"football is a sport where teams score goals\"\n",
        "]\n",
        "targets = [1, 0] # 1 means basketball, 0 means football\n",
        "\n",
        "# fit vectorizer on texts\n",
        "vectorizer = CountVectorizer(ngram_range=(2, 2))\n",
        "vectorizer.fit(texts)\n",
        "\n",
        "ngrams = vectorizer.transform(texts)\n",
        "print(ngrams)\n",
        "vectorizer.vocabulary_"
      ],
      "metadata": {
        "colab": {
          "base_uri": "https://localhost:8080/"
        },
        "id": "Cbni84ecu31e",
        "outputId": "049f6de1-46dc-4956-bd6c-c1cb02fa0d91"
      },
      "execution_count": null,
      "outputs": [
        {
          "output_type": "stream",
          "name": "stdout",
          "text": [
            "  (0, 0)\t1\n",
            "  (0, 3)\t1\n",
            "  (0, 5)\t1\n",
            "  (0, 6)\t1\n",
            "  (0, 7)\t1\n",
            "  (0, 9)\t1\n",
            "  (0, 10)\t1\n",
            "  (1, 1)\t1\n",
            "  (1, 2)\t1\n",
            "  (1, 4)\t1\n",
            "  (1, 6)\t1\n",
            "  (1, 8)\t1\n",
            "  (1, 10)\t1\n"
          ]
        },
        {
          "output_type": "execute_result",
          "data": {
            "text/plain": [
              "{'basketball is': 0,\n",
              " 'is team': 3,\n",
              " 'team sport': 7,\n",
              " 'sport where': 6,\n",
              " 'where teams': 10,\n",
              " 'teams shoot': 9,\n",
              " 'shoot basketball': 5,\n",
              " 'football is': 1,\n",
              " 'is sport': 2,\n",
              " 'teams score': 8,\n",
              " 'score goals': 4}"
            ]
          },
          "metadata": {},
          "execution_count": 21
        }
      ]
    },
    {
      "cell_type": "code",
      "source": [
        "texts = [\n",
        "    \"basketball is a team sport where teams shoot a basketball\",\n",
        "    \"football is a sport where teams score goals\"\n",
        "]\n",
        "labels = [1, 0] # 1 means basketball, 0 means football\n",
        "\n",
        "# fit vectorizer on texts\n",
        "vectorizer = CountVectorizer(ngram_range=(1, 1))\n",
        "vectorizer.fit(texts)\n",
        "\n",
        "ngrams = vectorizer.transform(texts)\n",
        "print(ngrams)\n",
        "vectorizer.vocabulary_\n",
        "vectorizer.vocabulary_.items()"
      ],
      "metadata": {
        "colab": {
          "base_uri": "https://localhost:8080/"
        },
        "id": "-50vSe3jv1m2",
        "outputId": "f49cf2d8-7cc4-4f7c-880b-6f0b6165f780"
      },
      "execution_count": null,
      "outputs": [
        {
          "output_type": "stream",
          "name": "stdout",
          "text": [
            "  (0, 0)\t2\n",
            "  (0, 3)\t1\n",
            "  (0, 5)\t1\n",
            "  (0, 6)\t1\n",
            "  (0, 7)\t1\n",
            "  (0, 8)\t1\n",
            "  (0, 9)\t1\n",
            "  (1, 1)\t1\n",
            "  (1, 2)\t1\n",
            "  (1, 3)\t1\n",
            "  (1, 4)\t1\n",
            "  (1, 6)\t1\n",
            "  (1, 8)\t1\n",
            "  (1, 9)\t1\n"
          ]
        },
        {
          "output_type": "execute_result",
          "data": {
            "text/plain": [
              "dict_items([('basketball', 0), ('is', 3), ('team', 7), ('sport', 6), ('where', 9), ('teams', 8), ('shoot', 5), ('football', 1), ('score', 4), ('goals', 2)])"
            ]
          },
          "metadata": {},
          "execution_count": 22
        }
      ]
    },
    {
      "cell_type": "markdown",
      "source": [
        "##N gram Vectorizer and Panda dataFrame "
      ],
      "metadata": {
        "id": "-uhdrG7rxQ-u"
      }
    },
    {
      "cell_type": "code",
      "source": [
        "# create a pandas dataframe that shows the unigrams in each text\n",
        "keys_values_sorted = sorted(list(vectorizer.vocabulary_.items()), key=lambda t: t[1])\n",
        "keys_sorted = list(zip(*keys_values_sorted))[0]\n",
        "ngrams_matrix = ngrams.todense()\n",
        "df = pd.DataFrame(ngrams_matrix, columns=keys_sorted)\n",
        "df"
      ],
      "metadata": {
        "colab": {
          "base_uri": "https://localhost:8080/",
          "height": 112
        },
        "id": "Yl7F5KV4xZbA",
        "outputId": "be6e4aef-ffb7-49c4-ec5d-9e4feed317a0"
      },
      "execution_count": null,
      "outputs": [
        {
          "output_type": "execute_result",
          "data": {
            "text/plain": [
              "   basketball  football  goals  is  score  shoot  sport  team  teams  where\n",
              "0           2         0      0   1      0      1      1     1      1      1\n",
              "1           0         1      1   1      1      0      1     0      1      1"
            ],
            "text/html": [
              "\n",
              "  <div id=\"df-99780ccc-f7ba-4169-baf6-ea814cd132cc\">\n",
              "    <div class=\"colab-df-container\">\n",
              "      <div>\n",
              "<style scoped>\n",
              "    .dataframe tbody tr th:only-of-type {\n",
              "        vertical-align: middle;\n",
              "    }\n",
              "\n",
              "    .dataframe tbody tr th {\n",
              "        vertical-align: top;\n",
              "    }\n",
              "\n",
              "    .dataframe thead th {\n",
              "        text-align: right;\n",
              "    }\n",
              "</style>\n",
              "<table border=\"1\" class=\"dataframe\">\n",
              "  <thead>\n",
              "    <tr style=\"text-align: right;\">\n",
              "      <th></th>\n",
              "      <th>basketball</th>\n",
              "      <th>football</th>\n",
              "      <th>goals</th>\n",
              "      <th>is</th>\n",
              "      <th>score</th>\n",
              "      <th>shoot</th>\n",
              "      <th>sport</th>\n",
              "      <th>team</th>\n",
              "      <th>teams</th>\n",
              "      <th>where</th>\n",
              "    </tr>\n",
              "  </thead>\n",
              "  <tbody>\n",
              "    <tr>\n",
              "      <th>0</th>\n",
              "      <td>2</td>\n",
              "      <td>0</td>\n",
              "      <td>0</td>\n",
              "      <td>1</td>\n",
              "      <td>0</td>\n",
              "      <td>1</td>\n",
              "      <td>1</td>\n",
              "      <td>1</td>\n",
              "      <td>1</td>\n",
              "      <td>1</td>\n",
              "    </tr>\n",
              "    <tr>\n",
              "      <th>1</th>\n",
              "      <td>0</td>\n",
              "      <td>1</td>\n",
              "      <td>1</td>\n",
              "      <td>1</td>\n",
              "      <td>1</td>\n",
              "      <td>0</td>\n",
              "      <td>1</td>\n",
              "      <td>0</td>\n",
              "      <td>1</td>\n",
              "      <td>1</td>\n",
              "    </tr>\n",
              "  </tbody>\n",
              "</table>\n",
              "</div>\n",
              "      <button class=\"colab-df-convert\" onclick=\"convertToInteractive('df-99780ccc-f7ba-4169-baf6-ea814cd132cc')\"\n",
              "              title=\"Convert this dataframe to an interactive table.\"\n",
              "              style=\"display:none;\">\n",
              "        \n",
              "  <svg xmlns=\"http://www.w3.org/2000/svg\" height=\"24px\"viewBox=\"0 0 24 24\"\n",
              "       width=\"24px\">\n",
              "    <path d=\"M0 0h24v24H0V0z\" fill=\"none\"/>\n",
              "    <path d=\"M18.56 5.44l.94 2.06.94-2.06 2.06-.94-2.06-.94-.94-2.06-.94 2.06-2.06.94zm-11 1L8.5 8.5l.94-2.06 2.06-.94-2.06-.94L8.5 2.5l-.94 2.06-2.06.94zm10 10l.94 2.06.94-2.06 2.06-.94-2.06-.94-.94-2.06-.94 2.06-2.06.94z\"/><path d=\"M17.41 7.96l-1.37-1.37c-.4-.4-.92-.59-1.43-.59-.52 0-1.04.2-1.43.59L10.3 9.45l-7.72 7.72c-.78.78-.78 2.05 0 2.83L4 21.41c.39.39.9.59 1.41.59.51 0 1.02-.2 1.41-.59l7.78-7.78 2.81-2.81c.8-.78.8-2.07 0-2.86zM5.41 20L4 18.59l7.72-7.72 1.47 1.35L5.41 20z\"/>\n",
              "  </svg>\n",
              "      </button>\n",
              "      \n",
              "  <style>\n",
              "    .colab-df-container {\n",
              "      display:flex;\n",
              "      flex-wrap:wrap;\n",
              "      gap: 12px;\n",
              "    }\n",
              "\n",
              "    .colab-df-convert {\n",
              "      background-color: #E8F0FE;\n",
              "      border: none;\n",
              "      border-radius: 50%;\n",
              "      cursor: pointer;\n",
              "      display: none;\n",
              "      fill: #1967D2;\n",
              "      height: 32px;\n",
              "      padding: 0 0 0 0;\n",
              "      width: 32px;\n",
              "    }\n",
              "\n",
              "    .colab-df-convert:hover {\n",
              "      background-color: #E2EBFA;\n",
              "      box-shadow: 0px 1px 2px rgba(60, 64, 67, 0.3), 0px 1px 3px 1px rgba(60, 64, 67, 0.15);\n",
              "      fill: #174EA6;\n",
              "    }\n",
              "\n",
              "    [theme=dark] .colab-df-convert {\n",
              "      background-color: #3B4455;\n",
              "      fill: #D2E3FC;\n",
              "    }\n",
              "\n",
              "    [theme=dark] .colab-df-convert:hover {\n",
              "      background-color: #434B5C;\n",
              "      box-shadow: 0px 1px 3px 1px rgba(0, 0, 0, 0.15);\n",
              "      filter: drop-shadow(0px 1px 2px rgba(0, 0, 0, 0.3));\n",
              "      fill: #FFFFFF;\n",
              "    }\n",
              "  </style>\n",
              "\n",
              "      <script>\n",
              "        const buttonEl =\n",
              "          document.querySelector('#df-99780ccc-f7ba-4169-baf6-ea814cd132cc button.colab-df-convert');\n",
              "        buttonEl.style.display =\n",
              "          google.colab.kernel.accessAllowed ? 'block' : 'none';\n",
              "\n",
              "        async function convertToInteractive(key) {\n",
              "          const element = document.querySelector('#df-99780ccc-f7ba-4169-baf6-ea814cd132cc');\n",
              "          const dataTable =\n",
              "            await google.colab.kernel.invokeFunction('convertToInteractive',\n",
              "                                                     [key], {});\n",
              "          if (!dataTable) return;\n",
              "\n",
              "          const docLinkHtml = 'Like what you see? Visit the ' +\n",
              "            '<a target=\"_blank\" href=https://colab.research.google.com/notebooks/data_table.ipynb>data table notebook</a>'\n",
              "            + ' to learn more about interactive tables.';\n",
              "          element.innerHTML = '';\n",
              "          dataTable['output_type'] = 'display_data';\n",
              "          await google.colab.output.renderOutput(dataTable, element);\n",
              "          const docLink = document.createElement('div');\n",
              "          docLink.innerHTML = docLinkHtml;\n",
              "          element.appendChild(docLink);\n",
              "        }\n",
              "      </script>\n",
              "    </div>\n",
              "  </div>\n",
              "  "
            ]
          },
          "metadata": {},
          "execution_count": 23
        }
      ]
    },
    {
      "cell_type": "code",
      "source": [
        "print(ngrams)"
      ],
      "metadata": {
        "colab": {
          "base_uri": "https://localhost:8080/"
        },
        "id": "FxbMLJLwwd33",
        "outputId": "c96bb67e-ba5b-45ff-f525-3c94d1371ebf"
      },
      "execution_count": null,
      "outputs": [
        {
          "output_type": "stream",
          "name": "stdout",
          "text": [
            "  (0, 0)\t2\n",
            "  (0, 3)\t1\n",
            "  (0, 5)\t1\n",
            "  (0, 6)\t1\n",
            "  (0, 7)\t1\n",
            "  (0, 8)\t1\n",
            "  (0, 9)\t1\n",
            "  (1, 1)\t1\n",
            "  (1, 2)\t1\n",
            "  (1, 3)\t1\n",
            "  (1, 4)\t1\n",
            "  (1, 6)\t1\n",
            "  (1, 8)\t1\n",
            "  (1, 9)\t1\n"
          ]
        }
      ]
    },
    {
      "cell_type": "markdown",
      "source": [
        "##Model Fit"
      ],
      "metadata": {
        "id": "9PxsyAxuyG0g"
      }
    },
    {
      "cell_type": "code",
      "source": [
        "# train logistic regression on unigrams\n",
        "model = LogisticRegression()\n",
        "model.fit(ngrams, targets)\n",
        "\n",
        "print(model.coef_[0])\n",
        "# show logistic regression weights\n",
        "from_unigram_to_weight = dict(zip(keys_sorted, model.coef_[0]))\n",
        "from_unigram_to_weight"
      ],
      "metadata": {
        "colab": {
          "base_uri": "https://localhost:8080/"
        },
        "id": "FLEnWHN7yFo4",
        "outputId": "e5eab5ac-67de-42d6-a927-86393ebbb730"
      },
      "execution_count": null,
      "outputs": [
        {
          "output_type": "stream",
          "name": "stdout",
          "text": [
            "[ 4.94647003e-01 -2.47318442e-01 -2.47318442e-01  5.05975534e-06\n",
            " -2.47318442e-01  2.47323501e-01  5.05975534e-06  2.47323501e-01\n",
            "  5.05975534e-06  5.05975534e-06]\n"
          ]
        },
        {
          "output_type": "execute_result",
          "data": {
            "text/plain": [
              "{'basketball': 0.49464700259889355,\n",
              " 'football': -0.2473184415441025,\n",
              " 'goals': -0.2473184415441025,\n",
              " 'is': 5.059755344360037e-06,\n",
              " 'score': -0.2473184415441025,\n",
              " 'shoot': 0.24732350129944677,\n",
              " 'sport': 5.059755344360037e-06,\n",
              " 'team': 0.24732350129944677,\n",
              " 'teams': 5.059755344360037e-06,\n",
              " 'where': 5.059755344360037e-06}"
            ]
          },
          "metadata": {},
          "execution_count": 38
        }
      ]
    }
  ]
}